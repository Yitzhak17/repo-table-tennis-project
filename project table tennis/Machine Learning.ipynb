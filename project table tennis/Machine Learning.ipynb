{
 "cells": [
  {
   "cell_type": "markdown",
   "id": "47f810cc",
   "metadata": {},
   "source": [
    "# Machine Learning\n",
    "## After we crawled, extracted, processed and visualised the data, we are going to preform different machine learning algorithms "
   ]
  },
  {
   "cell_type": "markdown",
   "id": "37fde2c6",
   "metadata": {},
   "source": [
    "#### Inital imports"
   ]
  },
  {
   "cell_type": "code",
   "execution_count": 33,
   "id": "29f310f7",
   "metadata": {},
   "outputs": [],
   "source": [
    "import pandas as pd\n",
    "import sklearn\n",
    "from sklearn.decomposition import PCA\n",
    "from sklearn.model_selection import train_test_split\n",
    "from sklearn.preprocessing import StandardScaler\n",
    "from sklearn.linear_model import LogisticRegressionCV\n",
    "from sklearn.ensemble import RandomForestClassifier\n",
    "\n",
    "%matplotlib inline"
   ]
  },
  {
   "cell_type": "code",
   "execution_count": 34,
   "id": "754ffe76",
   "metadata": {},
   "outputs": [
    {
     "data": {
      "text/html": [
       "<div>\n",
       "<style scoped>\n",
       "    .dataframe tbody tr th:only-of-type {\n",
       "        vertical-align: middle;\n",
       "    }\n",
       "\n",
       "    .dataframe tbody tr th {\n",
       "        vertical-align: top;\n",
       "    }\n",
       "\n",
       "    .dataframe thead th {\n",
       "        text-align: right;\n",
       "    }\n",
       "</style>\n",
       "<table border=\"1\" class=\"dataframe\">\n",
       "  <thead>\n",
       "    <tr style=\"text-align: right;\">\n",
       "      <th></th>\n",
       "      <th>p1_rank</th>\n",
       "      <th>p1_home</th>\n",
       "      <th>p2_rank</th>\n",
       "      <th>p2_home</th>\n",
       "      <th>p1_prevwins</th>\n",
       "      <th>p2_prevwins</th>\n",
       "      <th>p1_form</th>\n",
       "      <th>p2_form</th>\n",
       "      <th>p1_win</th>\n",
       "      <th>p2_win</th>\n",
       "      <th>diff_positive</th>\n",
       "    </tr>\n",
       "  </thead>\n",
       "  <tbody>\n",
       "    <tr>\n",
       "      <th>0</th>\n",
       "      <td>1807.8</td>\n",
       "      <td>1.0</td>\n",
       "      <td>1712.4</td>\n",
       "      <td>0.0</td>\n",
       "      <td>8</td>\n",
       "      <td>1</td>\n",
       "      <td>7.5</td>\n",
       "      <td>-21.0</td>\n",
       "      <td>0</td>\n",
       "      <td>1</td>\n",
       "      <td>1</td>\n",
       "    </tr>\n",
       "    <tr>\n",
       "      <th>1</th>\n",
       "      <td>1800.3</td>\n",
       "      <td>0.0</td>\n",
       "      <td>1071.1</td>\n",
       "      <td>1.0</td>\n",
       "      <td>2</td>\n",
       "      <td>0</td>\n",
       "      <td>6.0</td>\n",
       "      <td>-2.0</td>\n",
       "      <td>1</td>\n",
       "      <td>0</td>\n",
       "      <td>1</td>\n",
       "    </tr>\n",
       "    <tr>\n",
       "      <th>2</th>\n",
       "      <td>1800.3</td>\n",
       "      <td>0.0</td>\n",
       "      <td>1133.6</td>\n",
       "      <td>1.0</td>\n",
       "      <td>1</td>\n",
       "      <td>0</td>\n",
       "      <td>6.0</td>\n",
       "      <td>-3.0</td>\n",
       "      <td>1</td>\n",
       "      <td>0</td>\n",
       "      <td>1</td>\n",
       "    </tr>\n",
       "    <tr>\n",
       "      <th>3</th>\n",
       "      <td>1800.3</td>\n",
       "      <td>1.0</td>\n",
       "      <td>1057.6</td>\n",
       "      <td>0.0</td>\n",
       "      <td>1</td>\n",
       "      <td>0</td>\n",
       "      <td>3.0</td>\n",
       "      <td>-1.0</td>\n",
       "      <td>1</td>\n",
       "      <td>0</td>\n",
       "      <td>1</td>\n",
       "    </tr>\n",
       "    <tr>\n",
       "      <th>4</th>\n",
       "      <td>1800.3</td>\n",
       "      <td>1.0</td>\n",
       "      <td>1368.9</td>\n",
       "      <td>0.0</td>\n",
       "      <td>7</td>\n",
       "      <td>0</td>\n",
       "      <td>1.5</td>\n",
       "      <td>0.0</td>\n",
       "      <td>1</td>\n",
       "      <td>0</td>\n",
       "      <td>1</td>\n",
       "    </tr>\n",
       "    <tr>\n",
       "      <th>...</th>\n",
       "      <td>...</td>\n",
       "      <td>...</td>\n",
       "      <td>...</td>\n",
       "      <td>...</td>\n",
       "      <td>...</td>\n",
       "      <td>...</td>\n",
       "      <td>...</td>\n",
       "      <td>...</td>\n",
       "      <td>...</td>\n",
       "      <td>...</td>\n",
       "      <td>...</td>\n",
       "    </tr>\n",
       "    <tr>\n",
       "      <th>40356</th>\n",
       "      <td>0.0</td>\n",
       "      <td>1.0</td>\n",
       "      <td>435.5</td>\n",
       "      <td>0.0</td>\n",
       "      <td>0</td>\n",
       "      <td>0</td>\n",
       "      <td>0.0</td>\n",
       "      <td>0.0</td>\n",
       "      <td>1</td>\n",
       "      <td>0</td>\n",
       "      <td>0</td>\n",
       "    </tr>\n",
       "    <tr>\n",
       "      <th>40357</th>\n",
       "      <td>0.0</td>\n",
       "      <td>1.0</td>\n",
       "      <td>424.0</td>\n",
       "      <td>0.0</td>\n",
       "      <td>0</td>\n",
       "      <td>0</td>\n",
       "      <td>0.0</td>\n",
       "      <td>0.0</td>\n",
       "      <td>1</td>\n",
       "      <td>0</td>\n",
       "      <td>0</td>\n",
       "    </tr>\n",
       "    <tr>\n",
       "      <th>40358</th>\n",
       "      <td>0.0</td>\n",
       "      <td>1.0</td>\n",
       "      <td>331.0</td>\n",
       "      <td>0.0</td>\n",
       "      <td>0</td>\n",
       "      <td>0</td>\n",
       "      <td>0.0</td>\n",
       "      <td>0.0</td>\n",
       "      <td>0</td>\n",
       "      <td>1</td>\n",
       "      <td>0</td>\n",
       "    </tr>\n",
       "    <tr>\n",
       "      <th>40359</th>\n",
       "      <td>0.0</td>\n",
       "      <td>1.0</td>\n",
       "      <td>307.0</td>\n",
       "      <td>0.0</td>\n",
       "      <td>0</td>\n",
       "      <td>0</td>\n",
       "      <td>0.0</td>\n",
       "      <td>0.0</td>\n",
       "      <td>1</td>\n",
       "      <td>0</td>\n",
       "      <td>0</td>\n",
       "    </tr>\n",
       "    <tr>\n",
       "      <th>40360</th>\n",
       "      <td>0.0</td>\n",
       "      <td>1.0</td>\n",
       "      <td>402.0</td>\n",
       "      <td>0.0</td>\n",
       "      <td>0</td>\n",
       "      <td>0</td>\n",
       "      <td>0.0</td>\n",
       "      <td>0.0</td>\n",
       "      <td>0</td>\n",
       "      <td>1</td>\n",
       "      <td>0</td>\n",
       "    </tr>\n",
       "  </tbody>\n",
       "</table>\n",
       "<p>40361 rows × 11 columns</p>\n",
       "</div>"
      ],
      "text/plain": [
       "       p1_rank  p1_home  p2_rank  p2_home  p1_prevwins  p2_prevwins  p1_form  \\\n",
       "0       1807.8      1.0   1712.4      0.0            8            1      7.5   \n",
       "1       1800.3      0.0   1071.1      1.0            2            0      6.0   \n",
       "2       1800.3      0.0   1133.6      1.0            1            0      6.0   \n",
       "3       1800.3      1.0   1057.6      0.0            1            0      3.0   \n",
       "4       1800.3      1.0   1368.9      0.0            7            0      1.5   \n",
       "...        ...      ...      ...      ...          ...          ...      ...   \n",
       "40356      0.0      1.0    435.5      0.0            0            0      0.0   \n",
       "40357      0.0      1.0    424.0      0.0            0            0      0.0   \n",
       "40358      0.0      1.0    331.0      0.0            0            0      0.0   \n",
       "40359      0.0      1.0    307.0      0.0            0            0      0.0   \n",
       "40360      0.0      1.0    402.0      0.0            0            0      0.0   \n",
       "\n",
       "       p2_form  p1_win  p2_win  diff_positive  \n",
       "0        -21.0       0       1              1  \n",
       "1         -2.0       1       0              1  \n",
       "2         -3.0       1       0              1  \n",
       "3         -1.0       1       0              1  \n",
       "4          0.0       1       0              1  \n",
       "...        ...     ...     ...            ...  \n",
       "40356      0.0       1       0              0  \n",
       "40357      0.0       1       0              0  \n",
       "40358      0.0       0       1              0  \n",
       "40359      0.0       1       0              0  \n",
       "40360      0.0       0       1              0  \n",
       "\n",
       "[40361 rows x 11 columns]"
      ]
     },
     "execution_count": 34,
     "metadata": {},
     "output_type": "execute_result"
    }
   ],
   "source": [
    "games_df = pd.read_csv(\"games_analyzed_table.csv\", sep=\",\")\n",
    "games_df.drop(\n",
    "    [\n",
    "        \"winner_id\",\n",
    "        \"p1_id\",\n",
    "        \"p2_id\",\n",
    "        \"diff_win\",\n",
    "        \"points_diff\",\n",
    "        \"p1_sets\",\n",
    "        \"p2_sets\",\n",
    "        \"Unnamed: 0\",\n",
    "        \"match_id\",\n",
    "        \"match_type\",\n",
    "        \"date\",\n",
    "        \"p1_name\",\n",
    "        \"p2_name\",\n",
    "        \"p1_club\",\n",
    "        \"p2_club\",\n",
    "        \"p1_points_gained\",\n",
    "        \"p2_points_gained\",\n",
    "    ],\n",
    "    axis=1,\n",
    "    inplace=True,\n",
    ")\n",
    "\n",
    "games_df"
   ]
  },
  {
   "cell_type": "code",
   "execution_count": 35,
   "id": "dad2cc2b",
   "metadata": {},
   "outputs": [
    {
     "name": "stdout",
     "output_type": "stream",
     "text": [
      "<class 'pandas.core.frame.DataFrame'>\n",
      "RangeIndex: 40361 entries, 0 to 40360\n",
      "Data columns (total 11 columns):\n",
      " #   Column         Non-Null Count  Dtype  \n",
      "---  ------         --------------  -----  \n",
      " 0   p1_rank        40361 non-null  float64\n",
      " 1   p1_home        40361 non-null  float64\n",
      " 2   p2_rank        40361 non-null  float64\n",
      " 3   p2_home        40361 non-null  float64\n",
      " 4   p1_prevwins    40361 non-null  int64  \n",
      " 5   p2_prevwins    40361 non-null  int64  \n",
      " 6   p1_form        40361 non-null  float64\n",
      " 7   p2_form        40361 non-null  float64\n",
      " 8   p1_win         40361 non-null  int64  \n",
      " 9   p2_win         40361 non-null  int64  \n",
      " 10  diff_positive  40361 non-null  int64  \n",
      "dtypes: float64(6), int64(5)\n",
      "memory usage: 3.4 MB\n"
     ]
    }
   ],
   "source": [
    "games_df.fillna(0, inplace=True)\n",
    "games_df.info()"
   ]
  },
  {
   "cell_type": "markdown",
   "id": "ca893edf",
   "metadata": {},
   "source": [
    "### At this point we only need these specific columns:\n",
    "#### p1_rank, p1_home, p2_rank, p2_home, p1_prevwins, p2_prevwins, p1_form, p2_form, p1_win, p2_win"
   ]
  },
  {
   "cell_type": "code",
   "execution_count": 36,
   "id": "1d182891",
   "metadata": {},
   "outputs": [],
   "source": [
    "games_df[\"is_p1_win\"] = games_df[\"p1_win\"]\n",
    "games_df.drop([\"p1_win\", \"p2_win\"], axis=1, inplace=True)"
   ]
  },
  {
   "cell_type": "code",
   "execution_count": 37,
   "id": "3dfeb5c4",
   "metadata": {},
   "outputs": [
    {
     "data": {
      "text/html": [
       "<div>\n",
       "<style scoped>\n",
       "    .dataframe tbody tr th:only-of-type {\n",
       "        vertical-align: middle;\n",
       "    }\n",
       "\n",
       "    .dataframe tbody tr th {\n",
       "        vertical-align: top;\n",
       "    }\n",
       "\n",
       "    .dataframe thead th {\n",
       "        text-align: right;\n",
       "    }\n",
       "</style>\n",
       "<table border=\"1\" class=\"dataframe\">\n",
       "  <thead>\n",
       "    <tr style=\"text-align: right;\">\n",
       "      <th></th>\n",
       "      <th>p1_rank</th>\n",
       "      <th>p1_home</th>\n",
       "      <th>p2_rank</th>\n",
       "      <th>p2_home</th>\n",
       "      <th>p1_prevwins</th>\n",
       "      <th>p2_prevwins</th>\n",
       "      <th>p1_form</th>\n",
       "      <th>p2_form</th>\n",
       "      <th>diff_positive</th>\n",
       "      <th>is_p1_win</th>\n",
       "    </tr>\n",
       "  </thead>\n",
       "  <tbody>\n",
       "    <tr>\n",
       "      <th>0</th>\n",
       "      <td>1807.8</td>\n",
       "      <td>1.0</td>\n",
       "      <td>1712.4</td>\n",
       "      <td>0.0</td>\n",
       "      <td>8</td>\n",
       "      <td>1</td>\n",
       "      <td>7.5</td>\n",
       "      <td>-21.0</td>\n",
       "      <td>1</td>\n",
       "      <td>0</td>\n",
       "    </tr>\n",
       "    <tr>\n",
       "      <th>1</th>\n",
       "      <td>1800.3</td>\n",
       "      <td>0.0</td>\n",
       "      <td>1071.1</td>\n",
       "      <td>1.0</td>\n",
       "      <td>2</td>\n",
       "      <td>0</td>\n",
       "      <td>6.0</td>\n",
       "      <td>-2.0</td>\n",
       "      <td>1</td>\n",
       "      <td>1</td>\n",
       "    </tr>\n",
       "    <tr>\n",
       "      <th>2</th>\n",
       "      <td>1800.3</td>\n",
       "      <td>0.0</td>\n",
       "      <td>1133.6</td>\n",
       "      <td>1.0</td>\n",
       "      <td>1</td>\n",
       "      <td>0</td>\n",
       "      <td>6.0</td>\n",
       "      <td>-3.0</td>\n",
       "      <td>1</td>\n",
       "      <td>1</td>\n",
       "    </tr>\n",
       "    <tr>\n",
       "      <th>3</th>\n",
       "      <td>1800.3</td>\n",
       "      <td>1.0</td>\n",
       "      <td>1057.6</td>\n",
       "      <td>0.0</td>\n",
       "      <td>1</td>\n",
       "      <td>0</td>\n",
       "      <td>3.0</td>\n",
       "      <td>-1.0</td>\n",
       "      <td>1</td>\n",
       "      <td>1</td>\n",
       "    </tr>\n",
       "    <tr>\n",
       "      <th>4</th>\n",
       "      <td>1800.3</td>\n",
       "      <td>1.0</td>\n",
       "      <td>1368.9</td>\n",
       "      <td>0.0</td>\n",
       "      <td>7</td>\n",
       "      <td>0</td>\n",
       "      <td>1.5</td>\n",
       "      <td>0.0</td>\n",
       "      <td>1</td>\n",
       "      <td>1</td>\n",
       "    </tr>\n",
       "    <tr>\n",
       "      <th>...</th>\n",
       "      <td>...</td>\n",
       "      <td>...</td>\n",
       "      <td>...</td>\n",
       "      <td>...</td>\n",
       "      <td>...</td>\n",
       "      <td>...</td>\n",
       "      <td>...</td>\n",
       "      <td>...</td>\n",
       "      <td>...</td>\n",
       "      <td>...</td>\n",
       "    </tr>\n",
       "    <tr>\n",
       "      <th>40356</th>\n",
       "      <td>0.0</td>\n",
       "      <td>1.0</td>\n",
       "      <td>435.5</td>\n",
       "      <td>0.0</td>\n",
       "      <td>0</td>\n",
       "      <td>0</td>\n",
       "      <td>0.0</td>\n",
       "      <td>0.0</td>\n",
       "      <td>0</td>\n",
       "      <td>1</td>\n",
       "    </tr>\n",
       "    <tr>\n",
       "      <th>40357</th>\n",
       "      <td>0.0</td>\n",
       "      <td>1.0</td>\n",
       "      <td>424.0</td>\n",
       "      <td>0.0</td>\n",
       "      <td>0</td>\n",
       "      <td>0</td>\n",
       "      <td>0.0</td>\n",
       "      <td>0.0</td>\n",
       "      <td>0</td>\n",
       "      <td>1</td>\n",
       "    </tr>\n",
       "    <tr>\n",
       "      <th>40358</th>\n",
       "      <td>0.0</td>\n",
       "      <td>1.0</td>\n",
       "      <td>331.0</td>\n",
       "      <td>0.0</td>\n",
       "      <td>0</td>\n",
       "      <td>0</td>\n",
       "      <td>0.0</td>\n",
       "      <td>0.0</td>\n",
       "      <td>0</td>\n",
       "      <td>0</td>\n",
       "    </tr>\n",
       "    <tr>\n",
       "      <th>40359</th>\n",
       "      <td>0.0</td>\n",
       "      <td>1.0</td>\n",
       "      <td>307.0</td>\n",
       "      <td>0.0</td>\n",
       "      <td>0</td>\n",
       "      <td>0</td>\n",
       "      <td>0.0</td>\n",
       "      <td>0.0</td>\n",
       "      <td>0</td>\n",
       "      <td>1</td>\n",
       "    </tr>\n",
       "    <tr>\n",
       "      <th>40360</th>\n",
       "      <td>0.0</td>\n",
       "      <td>1.0</td>\n",
       "      <td>402.0</td>\n",
       "      <td>0.0</td>\n",
       "      <td>0</td>\n",
       "      <td>0</td>\n",
       "      <td>0.0</td>\n",
       "      <td>0.0</td>\n",
       "      <td>0</td>\n",
       "      <td>0</td>\n",
       "    </tr>\n",
       "  </tbody>\n",
       "</table>\n",
       "<p>40361 rows × 10 columns</p>\n",
       "</div>"
      ],
      "text/plain": [
       "       p1_rank  p1_home  p2_rank  p2_home  p1_prevwins  p2_prevwins  p1_form  \\\n",
       "0       1807.8      1.0   1712.4      0.0            8            1      7.5   \n",
       "1       1800.3      0.0   1071.1      1.0            2            0      6.0   \n",
       "2       1800.3      0.0   1133.6      1.0            1            0      6.0   \n",
       "3       1800.3      1.0   1057.6      0.0            1            0      3.0   \n",
       "4       1800.3      1.0   1368.9      0.0            7            0      1.5   \n",
       "...        ...      ...      ...      ...          ...          ...      ...   \n",
       "40356      0.0      1.0    435.5      0.0            0            0      0.0   \n",
       "40357      0.0      1.0    424.0      0.0            0            0      0.0   \n",
       "40358      0.0      1.0    331.0      0.0            0            0      0.0   \n",
       "40359      0.0      1.0    307.0      0.0            0            0      0.0   \n",
       "40360      0.0      1.0    402.0      0.0            0            0      0.0   \n",
       "\n",
       "       p2_form  diff_positive  is_p1_win  \n",
       "0        -21.0              1          0  \n",
       "1         -2.0              1          1  \n",
       "2         -3.0              1          1  \n",
       "3         -1.0              1          1  \n",
       "4          0.0              1          1  \n",
       "...        ...            ...        ...  \n",
       "40356      0.0              0          1  \n",
       "40357      0.0              0          1  \n",
       "40358      0.0              0          0  \n",
       "40359      0.0              0          1  \n",
       "40360      0.0              0          0  \n",
       "\n",
       "[40361 rows x 10 columns]"
      ]
     },
     "execution_count": 37,
     "metadata": {},
     "output_type": "execute_result"
    }
   ],
   "source": [
    "games_df"
   ]
  },
  {
   "cell_type": "code",
   "execution_count": 38,
   "id": "ecd48054",
   "metadata": {},
   "outputs": [],
   "source": [
    "X = games_df.drop(\"is_p1_win\", axis=1)\n",
    "y = games_df[\"is_p1_win\"]"
   ]
  },
  {
   "cell_type": "code",
   "execution_count": 39,
   "id": "adf8f1a9",
   "metadata": {},
   "outputs": [],
   "source": [
    "scaler = StandardScaler()\n",
    "X_train, X_test, y_train, y_test = train_test_split(\n",
    "    X, y, test_size=0.2, random_state=42\n",
    ")"
   ]
  },
  {
   "cell_type": "code",
   "execution_count": 40,
   "id": "cd93c86c",
   "metadata": {},
   "outputs": [],
   "source": [
    "scaled_X_train = scaler.fit_transform(X_train)\n",
    "scaled_X_test = scaler.transform(X_test)"
   ]
  },
  {
   "cell_type": "markdown",
   "id": "c22e49e6",
   "metadata": {},
   "source": [
    "## Logistic Regression\n",
    "#### The first model we will use"
   ]
  },
  {
   "cell_type": "code",
   "execution_count": 41,
   "id": "fb9e1e6c",
   "metadata": {},
   "outputs": [
    {
     "data": {
      "text/plain": [
       "LogisticRegressionCV()"
      ]
     },
     "execution_count": 41,
     "metadata": {},
     "output_type": "execute_result"
    }
   ],
   "source": [
    "lg_model = LogisticRegressionCV()\n",
    "lg_model.fit(scaled_X_train, y_train)"
   ]
  },
  {
   "cell_type": "markdown",
   "id": "22480e19",
   "metadata": {},
   "source": [
    "Let's see the preformance evaluation of the first model"
   ]
  },
  {
   "cell_type": "code",
   "execution_count": 42,
   "id": "21b4a54c",
   "metadata": {},
   "outputs": [],
   "source": [
    "predictions = lg_model.predict(scaled_X_test)"
   ]
  },
  {
   "cell_type": "code",
   "execution_count": 43,
   "id": "05094ba8",
   "metadata": {},
   "outputs": [],
   "source": [
    "from sklearn.metrics import (\n",
    "    confusion_matrix,\n",
    "    classification_report,\n",
    "    plot_confusion_matrix,\n",
    ")"
   ]
  },
  {
   "cell_type": "code",
   "execution_count": 44,
   "id": "d8cc0dc8",
   "metadata": {},
   "outputs": [
    {
     "data": {
      "text/plain": [
       "<sklearn.metrics._plot.confusion_matrix.ConfusionMatrixDisplay at 0x18aefeb67c0>"
      ]
     },
     "execution_count": 44,
     "metadata": {},
     "output_type": "execute_result"
    },
    {
     "data": {
      "image/png": "[encoded data removed]",
      "text/plain": [
       "<Figure size 640x480 with 2 Axes>"
      ]
     },
     "metadata": {},
     "output_type": "display_data"
    }
   ],
   "source": [
    "plot_confusion_matrix(lg_model, scaled_X_test, y_test)"
   ]
  },
  {
   "cell_type": "code",
   "execution_count": 45,
   "id": "11954b69",
   "metadata": {},
   "outputs": [
    {
     "name": "stdout",
     "output_type": "stream",
     "text": [
      "              precision    recall  f1-score   support\n",
      "\n",
      "           0       0.40      0.66      0.49      1353\n",
      "           1       0.92      0.80      0.86      6720\n",
      "\n",
      "    accuracy                           0.77      8073\n",
      "   macro avg       0.66      0.73      0.67      8073\n",
      "weighted avg       0.83      0.77      0.79      8073\n",
      "\n"
     ]
    }
   ],
   "source": [
    "print(classification_report(predictions, y_test))"
   ]
  },
  {
   "cell_type": "code",
   "execution_count": 46,
   "id": "1fcaeb2e",
   "metadata": {},
   "outputs": [
    {
     "data": {
      "text/plain": [
       "array([[ 1.28101718,  0.08512301, -1.5208023 , -0.00827718,  0.13144325,\n",
       "        -0.13346599,  0.2661595 , -0.17334308,  0.17662747]])"
      ]
     },
     "execution_count": 46,
     "metadata": {},
     "output_type": "execute_result"
    }
   ],
   "source": [
    "lg_model.coef_"
   ]
  },
  {
   "cell_type": "markdown",
   "id": "eed34e49",
   "metadata": {},
   "source": [
    "## Random Forest\n",
    "#### The second model we will use"
   ]
  },
  {
   "cell_type": "code",
   "execution_count": 47,
   "id": "875d7a03",
   "metadata": {},
   "outputs": [
    {
     "data": {
      "text/html": [
       "<div>\n",
       "<style scoped>\n",
       "    .dataframe tbody tr th:only-of-type {\n",
       "        vertical-align: middle;\n",
       "    }\n",
       "\n",
       "    .dataframe tbody tr th {\n",
       "        vertical-align: top;\n",
       "    }\n",
       "\n",
       "    .dataframe thead th {\n",
       "        text-align: right;\n",
       "    }\n",
       "</style>\n",
       "<table border=\"1\" class=\"dataframe\">\n",
       "  <thead>\n",
       "    <tr style=\"text-align: right;\">\n",
       "      <th></th>\n",
       "      <th>p1_rank</th>\n",
       "      <th>p1_home</th>\n",
       "      <th>p2_rank</th>\n",
       "      <th>p2_home</th>\n",
       "      <th>p1_prevwins</th>\n",
       "      <th>p2_prevwins</th>\n",
       "      <th>p1_form</th>\n",
       "      <th>p2_form</th>\n",
       "      <th>diff_positive</th>\n",
       "      <th>is_p1_win</th>\n",
       "      <th>diff</th>\n",
       "    </tr>\n",
       "  </thead>\n",
       "  <tbody>\n",
       "    <tr>\n",
       "      <th>0</th>\n",
       "      <td>1807.8</td>\n",
       "      <td>1.0</td>\n",
       "      <td>1712.4</td>\n",
       "      <td>0.0</td>\n",
       "      <td>8</td>\n",
       "      <td>1</td>\n",
       "      <td>7.5</td>\n",
       "      <td>-21.0</td>\n",
       "      <td>1</td>\n",
       "      <td>0</td>\n",
       "      <td>95.4</td>\n",
       "    </tr>\n",
       "    <tr>\n",
       "      <th>1</th>\n",
       "      <td>1800.3</td>\n",
       "      <td>0.0</td>\n",
       "      <td>1071.1</td>\n",
       "      <td>1.0</td>\n",
       "      <td>2</td>\n",
       "      <td>0</td>\n",
       "      <td>6.0</td>\n",
       "      <td>-2.0</td>\n",
       "      <td>1</td>\n",
       "      <td>1</td>\n",
       "      <td>729.2</td>\n",
       "    </tr>\n",
       "    <tr>\n",
       "      <th>2</th>\n",
       "      <td>1800.3</td>\n",
       "      <td>0.0</td>\n",
       "      <td>1133.6</td>\n",
       "      <td>1.0</td>\n",
       "      <td>1</td>\n",
       "      <td>0</td>\n",
       "      <td>6.0</td>\n",
       "      <td>-3.0</td>\n",
       "      <td>1</td>\n",
       "      <td>1</td>\n",
       "      <td>666.7</td>\n",
       "    </tr>\n",
       "    <tr>\n",
       "      <th>3</th>\n",
       "      <td>1800.3</td>\n",
       "      <td>1.0</td>\n",
       "      <td>1057.6</td>\n",
       "      <td>0.0</td>\n",
       "      <td>1</td>\n",
       "      <td>0</td>\n",
       "      <td>3.0</td>\n",
       "      <td>-1.0</td>\n",
       "      <td>1</td>\n",
       "      <td>1</td>\n",
       "      <td>742.7</td>\n",
       "    </tr>\n",
       "    <tr>\n",
       "      <th>4</th>\n",
       "      <td>1800.3</td>\n",
       "      <td>1.0</td>\n",
       "      <td>1368.9</td>\n",
       "      <td>0.0</td>\n",
       "      <td>7</td>\n",
       "      <td>0</td>\n",
       "      <td>1.5</td>\n",
       "      <td>0.0</td>\n",
       "      <td>1</td>\n",
       "      <td>1</td>\n",
       "      <td>431.4</td>\n",
       "    </tr>\n",
       "    <tr>\n",
       "      <th>...</th>\n",
       "      <td>...</td>\n",
       "      <td>...</td>\n",
       "      <td>...</td>\n",
       "      <td>...</td>\n",
       "      <td>...</td>\n",
       "      <td>...</td>\n",
       "      <td>...</td>\n",
       "      <td>...</td>\n",
       "      <td>...</td>\n",
       "      <td>...</td>\n",
       "      <td>...</td>\n",
       "    </tr>\n",
       "    <tr>\n",
       "      <th>40356</th>\n",
       "      <td>0.0</td>\n",
       "      <td>1.0</td>\n",
       "      <td>435.5</td>\n",
       "      <td>0.0</td>\n",
       "      <td>0</td>\n",
       "      <td>0</td>\n",
       "      <td>0.0</td>\n",
       "      <td>0.0</td>\n",
       "      <td>0</td>\n",
       "      <td>1</td>\n",
       "      <td>-435.5</td>\n",
       "    </tr>\n",
       "    <tr>\n",
       "      <th>40357</th>\n",
       "      <td>0.0</td>\n",
       "      <td>1.0</td>\n",
       "      <td>424.0</td>\n",
       "      <td>0.0</td>\n",
       "      <td>0</td>\n",
       "      <td>0</td>\n",
       "      <td>0.0</td>\n",
       "      <td>0.0</td>\n",
       "      <td>0</td>\n",
       "      <td>1</td>\n",
       "      <td>-424.0</td>\n",
       "    </tr>\n",
       "    <tr>\n",
       "      <th>40358</th>\n",
       "      <td>0.0</td>\n",
       "      <td>1.0</td>\n",
       "      <td>331.0</td>\n",
       "      <td>0.0</td>\n",
       "      <td>0</td>\n",
       "      <td>0</td>\n",
       "      <td>0.0</td>\n",
       "      <td>0.0</td>\n",
       "      <td>0</td>\n",
       "      <td>0</td>\n",
       "      <td>-331.0</td>\n",
       "    </tr>\n",
       "    <tr>\n",
       "      <th>40359</th>\n",
       "      <td>0.0</td>\n",
       "      <td>1.0</td>\n",
       "      <td>307.0</td>\n",
       "      <td>0.0</td>\n",
       "      <td>0</td>\n",
       "      <td>0</td>\n",
       "      <td>0.0</td>\n",
       "      <td>0.0</td>\n",
       "      <td>0</td>\n",
       "      <td>1</td>\n",
       "      <td>-307.0</td>\n",
       "    </tr>\n",
       "    <tr>\n",
       "      <th>40360</th>\n",
       "      <td>0.0</td>\n",
       "      <td>1.0</td>\n",
       "      <td>402.0</td>\n",
       "      <td>0.0</td>\n",
       "      <td>0</td>\n",
       "      <td>0</td>\n",
       "      <td>0.0</td>\n",
       "      <td>0.0</td>\n",
       "      <td>0</td>\n",
       "      <td>0</td>\n",
       "      <td>-402.0</td>\n",
       "    </tr>\n",
       "  </tbody>\n",
       "</table>\n",
       "<p>40361 rows × 11 columns</p>\n",
       "</div>"
      ],
      "text/plain": [
       "       p1_rank  p1_home  p2_rank  p2_home  p1_prevwins  p2_prevwins  p1_form  \\\n",
       "0       1807.8      1.0   1712.4      0.0            8            1      7.5   \n",
       "1       1800.3      0.0   1071.1      1.0            2            0      6.0   \n",
       "2       1800.3      0.0   1133.6      1.0            1            0      6.0   \n",
       "3       1800.3      1.0   1057.6      0.0            1            0      3.0   \n",
       "4       1800.3      1.0   1368.9      0.0            7            0      1.5   \n",
       "...        ...      ...      ...      ...          ...          ...      ...   \n",
       "40356      0.0      1.0    435.5      0.0            0            0      0.0   \n",
       "40357      0.0      1.0    424.0      0.0            0            0      0.0   \n",
       "40358      0.0      1.0    331.0      0.0            0            0      0.0   \n",
       "40359      0.0      1.0    307.0      0.0            0            0      0.0   \n",
       "40360      0.0      1.0    402.0      0.0            0            0      0.0   \n",
       "\n",
       "       p2_form  diff_positive  is_p1_win   diff  \n",
       "0        -21.0              1          0   95.4  \n",
       "1         -2.0              1          1  729.2  \n",
       "2         -3.0              1          1  666.7  \n",
       "3         -1.0              1          1  742.7  \n",
       "4          0.0              1          1  431.4  \n",
       "...        ...            ...        ...    ...  \n",
       "40356      0.0              0          1 -435.5  \n",
       "40357      0.0              0          1 -424.0  \n",
       "40358      0.0              0          0 -331.0  \n",
       "40359      0.0              0          1 -307.0  \n",
       "40360      0.0              0          0 -402.0  \n",
       "\n",
       "[40361 rows x 11 columns]"
      ]
     },
     "execution_count": 47,
     "metadata": {},
     "output_type": "execute_result"
    }
   ],
   "source": [
    "rf_df = games_df.copy()\n",
    "\n",
    "rf_df[\"diff\"] = rf_df[\"p1_rank\"] - rf_df[\"p2_rank\"]\n",
    "rf_df"
   ]
  },
  {
   "cell_type": "code",
   "execution_count": 48,
   "id": "ae15d8ee",
   "metadata": {},
   "outputs": [
    {
     "data": {
      "text/plain": [
       "1    27391\n",
       "0    11190\n",
       "Name: is_p1_win, dtype: int64"
      ]
     },
     "execution_count": 48,
     "metadata": {},
     "output_type": "execute_result"
    }
   ],
   "source": [
    "rf_df = rf_df[\n",
    "    ((rf_df[\"diff\"] >= -80) | ((rf_df[\"diff\"] < -80) & rf_df[\"is_p1_win\"] == 0))\n",
    "]\n",
    "rf_df[\"is_p1_win\"].value_counts()"
   ]
  },
  {
   "cell_type": "code",
   "execution_count": 49,
   "id": "269b5f44",
   "metadata": {},
   "outputs": [],
   "source": [
    "r_X = rf_df.drop(\"is_p1_win\", axis=1)\n",
    "r_y = rf_df[\"is_p1_win\"]"
   ]
  },
  {
   "cell_type": "code",
   "execution_count": 50,
   "id": "9f207235",
   "metadata": {},
   "outputs": [
    {
     "data": {
      "text/html": [
       "<div>\n",
       "<style scoped>\n",
       "    .dataframe tbody tr th:only-of-type {\n",
       "        vertical-align: middle;\n",
       "    }\n",
       "\n",
       "    .dataframe tbody tr th {\n",
       "        vertical-align: top;\n",
       "    }\n",
       "\n",
       "    .dataframe thead th {\n",
       "        text-align: right;\n",
       "    }\n",
       "</style>\n",
       "<table border=\"1\" class=\"dataframe\">\n",
       "  <thead>\n",
       "    <tr style=\"text-align: right;\">\n",
       "      <th></th>\n",
       "      <th>diff</th>\n",
       "      <th>p1_form</th>\n",
       "      <th>p2_form</th>\n",
       "      <th>p1_prevwins</th>\n",
       "      <th>p2_prevwins</th>\n",
       "    </tr>\n",
       "  </thead>\n",
       "  <tbody>\n",
       "    <tr>\n",
       "      <th>0</th>\n",
       "      <td>95.4</td>\n",
       "      <td>7.5</td>\n",
       "      <td>-21.0</td>\n",
       "      <td>8</td>\n",
       "      <td>1</td>\n",
       "    </tr>\n",
       "    <tr>\n",
       "      <th>1</th>\n",
       "      <td>729.2</td>\n",
       "      <td>6.0</td>\n",
       "      <td>-2.0</td>\n",
       "      <td>2</td>\n",
       "      <td>0</td>\n",
       "    </tr>\n",
       "    <tr>\n",
       "      <th>2</th>\n",
       "      <td>666.7</td>\n",
       "      <td>6.0</td>\n",
       "      <td>-3.0</td>\n",
       "      <td>1</td>\n",
       "      <td>0</td>\n",
       "    </tr>\n",
       "    <tr>\n",
       "      <th>3</th>\n",
       "      <td>742.7</td>\n",
       "      <td>3.0</td>\n",
       "      <td>-1.0</td>\n",
       "      <td>1</td>\n",
       "      <td>0</td>\n",
       "    </tr>\n",
       "    <tr>\n",
       "      <th>4</th>\n",
       "      <td>431.4</td>\n",
       "      <td>1.5</td>\n",
       "      <td>0.0</td>\n",
       "      <td>7</td>\n",
       "      <td>0</td>\n",
       "    </tr>\n",
       "    <tr>\n",
       "      <th>...</th>\n",
       "      <td>...</td>\n",
       "      <td>...</td>\n",
       "      <td>...</td>\n",
       "      <td>...</td>\n",
       "      <td>...</td>\n",
       "    </tr>\n",
       "    <tr>\n",
       "      <th>40353</th>\n",
       "      <td>-27.5</td>\n",
       "      <td>-3.0</td>\n",
       "      <td>0.0</td>\n",
       "      <td>1</td>\n",
       "      <td>0</td>\n",
       "    </tr>\n",
       "    <tr>\n",
       "      <th>40354</th>\n",
       "      <td>-161.0</td>\n",
       "      <td>0.0</td>\n",
       "      <td>-4.0</td>\n",
       "      <td>0</td>\n",
       "      <td>0</td>\n",
       "    </tr>\n",
       "    <tr>\n",
       "      <th>40355</th>\n",
       "      <td>-4.7</td>\n",
       "      <td>0.0</td>\n",
       "      <td>0.0</td>\n",
       "      <td>0</td>\n",
       "      <td>0</td>\n",
       "    </tr>\n",
       "    <tr>\n",
       "      <th>40358</th>\n",
       "      <td>-331.0</td>\n",
       "      <td>0.0</td>\n",
       "      <td>0.0</td>\n",
       "      <td>0</td>\n",
       "      <td>0</td>\n",
       "    </tr>\n",
       "    <tr>\n",
       "      <th>40360</th>\n",
       "      <td>-402.0</td>\n",
       "      <td>0.0</td>\n",
       "      <td>0.0</td>\n",
       "      <td>0</td>\n",
       "      <td>0</td>\n",
       "    </tr>\n",
       "  </tbody>\n",
       "</table>\n",
       "<p>38581 rows × 5 columns</p>\n",
       "</div>"
      ],
      "text/plain": [
       "        diff  p1_form  p2_form  p1_prevwins  p2_prevwins\n",
       "0       95.4      7.5    -21.0            8            1\n",
       "1      729.2      6.0     -2.0            2            0\n",
       "2      666.7      6.0     -3.0            1            0\n",
       "3      742.7      3.0     -1.0            1            0\n",
       "4      431.4      1.5      0.0            7            0\n",
       "...      ...      ...      ...          ...          ...\n",
       "40353  -27.5     -3.0      0.0            1            0\n",
       "40354 -161.0      0.0     -4.0            0            0\n",
       "40355   -4.7      0.0      0.0            0            0\n",
       "40358 -331.0      0.0      0.0            0            0\n",
       "40360 -402.0      0.0      0.0            0            0\n",
       "\n",
       "[38581 rows x 5 columns]"
      ]
     },
     "execution_count": 50,
     "metadata": {},
     "output_type": "execute_result"
    }
   ],
   "source": [
    "temp_x = r_X.copy()\n",
    "temp_x[\"diff\"] = temp_x[\"p1_rank\"] - temp_x[\"p2_rank\"]\n",
    "temp_x = temp_x[[\"diff\", \"p1_form\", \"p2_form\", \"p1_prevwins\", \"p2_prevwins\"]]\n",
    "\n",
    "\n",
    "temp_x"
   ]
  },
  {
   "cell_type": "code",
   "execution_count": 51,
   "id": "edcf2fc3",
   "metadata": {},
   "outputs": [
    {
     "data": {
      "text/plain": [
       "0        0\n",
       "1        1\n",
       "2        1\n",
       "3        1\n",
       "4        1\n",
       "        ..\n",
       "40353    1\n",
       "40354    0\n",
       "40355    0\n",
       "40358    0\n",
       "40360    0\n",
       "Name: is_p1_win, Length: 38581, dtype: int64"
      ]
     },
     "execution_count": 51,
     "metadata": {},
     "output_type": "execute_result"
    }
   ],
   "source": [
    "temp_y = r_y\n",
    "temp_y"
   ]
  },
  {
   "cell_type": "code",
   "execution_count": 52,
   "id": "061ac3e9",
   "metadata": {},
   "outputs": [],
   "source": [
    "scaler_temp = StandardScaler()\n",
    "X_temp_train, X_temp_test, y_temp_train, y_temp_test = train_test_split(\n",
    "    temp_x, temp_y, test_size=0.1\n",
    ")"
   ]
  },
  {
   "cell_type": "code",
   "execution_count": 53,
   "id": "687a90e8",
   "metadata": {},
   "outputs": [],
   "source": [
    "rf_model = RandomForestClassifier(n_estimators=1500, max_features=\"auto\")"
   ]
  },
  {
   "cell_type": "code",
   "execution_count": 54,
   "id": "2b59d943",
   "metadata": {},
   "outputs": [
    {
     "data": {
      "text/plain": [
       "RandomForestClassifier(n_estimators=1500)"
      ]
     },
     "execution_count": 54,
     "metadata": {},
     "output_type": "execute_result"
    }
   ],
   "source": [
    "rf_model.fit(X_temp_train, y_temp_train)"
   ]
  },
  {
   "cell_type": "code",
   "execution_count": 55,
   "id": "efd25f7d",
   "metadata": {},
   "outputs": [],
   "source": [
    "rf_predicitons = rf_model.predict(X_temp_test)"
   ]
  },
  {
   "cell_type": "code",
   "execution_count": 56,
   "id": "59aa7738",
   "metadata": {},
   "outputs": [
    {
     "data": {
      "text/plain": [
       "<sklearn.metrics._plot.confusion_matrix.ConfusionMatrixDisplay at 0x18aef984a90>"
      ]
     },
     "execution_count": 56,
     "metadata": {},
     "output_type": "execute_result"
    },
    {
     "data": {
      "image/png": "[encoded data removed]",
      "text/plain": [
       "<Figure size 640x480 with 2 Axes>"
      ]
     },
     "metadata": {},
     "output_type": "display_data"
    }
   ],
   "source": [
    "plot_confusion_matrix(rf_model, X_temp_test, y_temp_test)"
   ]
  },
  {
   "cell_type": "code",
   "execution_count": 57,
   "id": "810e002e",
   "metadata": {},
   "outputs": [
    {
     "data": {
      "text/plain": [
       "array([[ 531,  604],\n",
       "       [ 200, 2524]], dtype=int64)"
      ]
     },
     "execution_count": 57,
     "metadata": {},
     "output_type": "execute_result"
    }
   ],
   "source": [
    "confusion_matrix(y_temp_test, rf_predicitons)"
   ]
  },
  {
   "cell_type": "code",
   "execution_count": 58,
   "id": "0bef1ce1",
   "metadata": {},
   "outputs": [
    {
     "name": "stdout",
     "output_type": "stream",
     "text": [
      "              precision    recall  f1-score   support\n",
      "\n",
      "           0       0.47      0.73      0.57       731\n",
      "           1       0.93      0.81      0.86      3128\n",
      "\n",
      "    accuracy                           0.79      3859\n",
      "   macro avg       0.70      0.77      0.72      3859\n",
      "weighted avg       0.84      0.79      0.81      3859\n",
      "\n"
     ]
    }
   ],
   "source": [
    "print(classification_report(rf_predicitons, y_temp_test))"
   ]
  },
  {
   "cell_type": "code",
   "execution_count": 60,
   "id": "e1dce942",
   "metadata": {},
   "outputs": [
    {
     "data": {
      "text/plain": [
       "array([1], dtype=int64)"
      ]
     },
     "execution_count": 60,
     "metadata": {},
     "output_type": "execute_result"
    }
   ],
   "source": [
    "game = {\n",
    "    \"diff\": [160],\n",
    "    \"p1_prevwins\": [0],\n",
    "    \"p2_prevwins\": [0],\n",
    "    \"p1_form\": [0],\n",
    "    \"p2_form\": [0],\n",
    "}\n",
    "\n",
    "df = pd.DataFrame.from_dict(game)\n",
    "score = rf_model.predict(df)\n",
    "score"
   ]
  },
  {
   "cell_type": "markdown",
   "id": "b1e5c5ee",
   "metadata": {},
   "source": [
    "## Trying different approach"
   ]
  },
  {
   "cell_type": "code",
   "execution_count": 62,
   "id": "f397e063",
   "metadata": {},
   "outputs": [],
   "source": [
    "games_df = pd.read_csv(\"games_analyzed_table.csv\", sep=\",\")\n",
    "games_df.fillna(0, inplace=True)\n",
    "games_df[\"is_p1_win\"] = games_df[\"p1_win\"]"
   ]
  },
  {
   "cell_type": "code",
   "execution_count": 63,
   "id": "6ae25a8a",
   "metadata": {},
   "outputs": [],
   "source": [
    "X2 = games_df[[\"points_diff\", \"p1_prevwins\", \"p2_prevwins\"]]\n",
    "y2 = games_df[\"is_p1_win\"]\n",
    "scaler2 = StandardScaler()\n",
    "X_train2, X_test2, y_train2, y_test2 = train_test_split(\n",
    "    X2, y2, test_size=0.1, random_state=42\n",
    ")"
   ]
  },
  {
   "cell_type": "code",
   "execution_count": 64,
   "id": "5878b949",
   "metadata": {
    "scrolled": true
   },
   "outputs": [],
   "source": [
    "scaled_X_train2 = scaler2.fit_transform(X_train2)\n",
    "scaled_X_test2 = scaler2.transform(X_test2)"
   ]
  },
  {
   "cell_type": "code",
   "execution_count": 65,
   "id": "0ecfebb3",
   "metadata": {},
   "outputs": [],
   "source": [
    "lg_model2 = LogisticRegressionCV()"
   ]
  },
  {
   "cell_type": "code",
   "execution_count": 66,
   "id": "6658e2e8",
   "metadata": {},
   "outputs": [
    {
     "data": {
      "text/plain": [
       "LogisticRegressionCV()"
      ]
     },
     "execution_count": 66,
     "metadata": {},
     "output_type": "execute_result"
    }
   ],
   "source": [
    "lg_model2.fit(scaled_X_train2, y_train2)"
   ]
  },
  {
   "cell_type": "code",
   "execution_count": 67,
   "id": "663f4b1b",
   "metadata": {},
   "outputs": [],
   "source": [
    "predictions2 = lg_model2.predict(scaled_X_test2)"
   ]
  },
  {
   "cell_type": "code",
   "execution_count": 68,
   "id": "df51940a",
   "metadata": {},
   "outputs": [
    {
     "data": {
      "text/plain": [
       "array([[ 369,  190],\n",
       "       [ 743, 2735]], dtype=int64)"
      ]
     },
     "execution_count": 68,
     "metadata": {},
     "output_type": "execute_result"
    }
   ],
   "source": [
    "confusion_matrix(predictions2, y_test2)"
   ]
  },
  {
   "cell_type": "code",
   "execution_count": 69,
   "id": "77456589",
   "metadata": {},
   "outputs": [
    {
     "name": "stdout",
     "output_type": "stream",
     "text": [
      "              precision    recall  f1-score   support\n",
      "\n",
      "           0       0.33      0.66      0.44       559\n",
      "           1       0.94      0.79      0.85      3478\n",
      "\n",
      "    accuracy                           0.77      4037\n",
      "   macro avg       0.63      0.72      0.65      4037\n",
      "weighted avg       0.85      0.77      0.80      4037\n",
      "\n"
     ]
    }
   ],
   "source": [
    "print(classification_report(predictions2, y_test2))"
   ]
  },
  {
   "cell_type": "markdown",
   "id": "75895721",
   "metadata": {},
   "source": [
    "## SVM"
   ]
  },
  {
   "cell_type": "code",
   "execution_count": 73,
   "id": "43a27732",
   "metadata": {},
   "outputs": [],
   "source": [
    "from sklearn.svm import SVC\n",
    "from sklearn.model_selection import GridSearchCV"
   ]
  },
  {
   "cell_type": "code",
   "execution_count": 74,
   "id": "c54cbe70",
   "metadata": {},
   "outputs": [],
   "source": [
    "svc = SVC(class_weight=\"balanced\")"
   ]
  },
  {
   "cell_type": "code",
   "execution_count": 75,
   "id": "80729a51",
   "metadata": {},
   "outputs": [],
   "source": [
    "params = {\"C\": [0.001, 0.01, 0.1, 0.5, 1], \"gamma\": [\"scale\", \"auto\"]}"
   ]
  },
  {
   "cell_type": "code",
   "execution_count": 76,
   "id": "8f612915",
   "metadata": {},
   "outputs": [],
   "source": [
    "grid = GridSearchCV(svc, params)"
   ]
  },
  {
   "cell_type": "code",
   "execution_count": 78,
   "id": "150a2d9a",
   "metadata": {},
   "outputs": [
    {
     "data": {
      "text/plain": [
       "GridSearchCV(estimator=SVC(class_weight='balanced'),\n",
       "             param_grid={'C': [0.001, 0.01, 0.1, 0.5, 1],\n",
       "                         'gamma': ['scale', 'auto']})"
      ]
     },
     "execution_count": 78,
     "metadata": {},
     "output_type": "execute_result"
    }
   ],
   "source": [
    "grid.fit(scaled_X_train, y_train)"
   ]
  },
  {
   "cell_type": "code",
   "execution_count": 79,
   "id": "00d70168",
   "metadata": {},
   "outputs": [
    {
     "data": {
      "text/plain": [
       "{'C': 0.01, 'gamma': 'auto'}"
      ]
     },
     "execution_count": 79,
     "metadata": {},
     "output_type": "execute_result"
    }
   ],
   "source": [
    "grid.best_params_"
   ]
  },
  {
   "cell_type": "code",
   "execution_count": 80,
   "id": "6b16c7bf",
   "metadata": {},
   "outputs": [],
   "source": [
    "svm_predictions = grid.predict(scaled_X_test)"
   ]
  },
  {
   "cell_type": "code",
   "execution_count": 81,
   "id": "d02eb8a5",
   "metadata": {},
   "outputs": [
    {
     "data": {
      "text/plain": [
       "array([[1251, 1128],\n",
       "       [ 990, 4704]], dtype=int64)"
      ]
     },
     "execution_count": 81,
     "metadata": {},
     "output_type": "execute_result"
    }
   ],
   "source": [
    "confusion_matrix(svm_predictions, y_test)"
   ]
  },
  {
   "cell_type": "code",
   "execution_count": 82,
   "id": "92ee2ab8",
   "metadata": {},
   "outputs": [
    {
     "name": "stdout",
     "output_type": "stream",
     "text": [
      "              precision    recall  f1-score   support\n",
      "\n",
      "           0       0.56      0.53      0.54      2379\n",
      "           1       0.81      0.83      0.82      5694\n",
      "\n",
      "    accuracy                           0.74      8073\n",
      "   macro avg       0.68      0.68      0.68      8073\n",
      "weighted avg       0.73      0.74      0.74      8073\n",
      "\n"
     ]
    }
   ],
   "source": [
    "print(classification_report(svm_predictions, y_test))"
   ]
  },
  {
   "cell_type": "markdown",
   "id": "f107c87a",
   "metadata": {},
   "source": [
    "## Adaptive Boost Model"
   ]
  },
  {
   "cell_type": "code",
   "execution_count": 83,
   "id": "401f0115",
   "metadata": {},
   "outputs": [],
   "source": [
    "from sklearn.ensemble import AdaBoostClassifier"
   ]
  },
  {
   "cell_type": "code",
   "execution_count": 84,
   "id": "548c648a",
   "metadata": {},
   "outputs": [],
   "source": [
    "ad_model = AdaBoostClassifier(n_estimators=1000)"
   ]
  },
  {
   "cell_type": "code",
   "execution_count": 85,
   "id": "97923cdb",
   "metadata": {},
   "outputs": [
    {
     "data": {
      "text/plain": [
       "AdaBoostClassifier(n_estimators=1000)"
      ]
     },
     "execution_count": 85,
     "metadata": {},
     "output_type": "execute_result"
    }
   ],
   "source": [
    "ad_model.fit(X_train, y_train)"
   ]
  },
  {
   "cell_type": "code",
   "execution_count": 86,
   "id": "69a9a770",
   "metadata": {},
   "outputs": [],
   "source": [
    "ad_predictions = ad_model.predict(X_test)"
   ]
  },
  {
   "cell_type": "code",
   "execution_count": 87,
   "id": "606d4dc6",
   "metadata": {},
   "outputs": [
    {
     "data": {
      "text/plain": [
       "array([[ 914,  485],\n",
       "       [1327, 5347]], dtype=int64)"
      ]
     },
     "execution_count": 87,
     "metadata": {},
     "output_type": "execute_result"
    }
   ],
   "source": [
    "confusion_matrix(ad_predictions, y_test)"
   ]
  },
  {
   "cell_type": "code",
   "execution_count": 88,
   "id": "1f3db0c7",
   "metadata": {},
   "outputs": [
    {
     "name": "stdout",
     "output_type": "stream",
     "text": [
      "              precision    recall  f1-score   support\n",
      "\n",
      "           0       0.41      0.65      0.50      1399\n",
      "           1       0.92      0.80      0.86      6674\n",
      "\n",
      "    accuracy                           0.78      8073\n",
      "   macro avg       0.66      0.73      0.68      8073\n",
      "weighted avg       0.83      0.78      0.79      8073\n",
      "\n"
     ]
    }
   ],
   "source": [
    "print(classification_report(ad_predictions, y_test))"
   ]
  }
 ],
 "metadata": {
  "kernelspec": {
   "display_name": "Python 3",
   "language": "python",
   "name": "python3"
  },
  "language_info": {
   "codemirror_mode": {
    "name": "ipython",
    "version": 3
   },
   "file_extension": ".py",
   "mimetype": "text/x-python",
   "name": "python",
   "nbconvert_exporter": "python",
   "pygments_lexer": "ipython3",
   "version": "3.9.13"
  },
  "vscode": {
   "interpreter": {
    "hash": "f30eaf7e98557e1e6b6bf311b44060d4a814d8c64947558202819469cfe14151"
   }
  }
 },
 "nbformat": 4,
 "nbformat_minor": 5
}
