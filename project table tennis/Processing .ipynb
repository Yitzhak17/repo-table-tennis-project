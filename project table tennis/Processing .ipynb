{
 "cells": [
  {
   "cell_type": "code",
   "execution_count": 1,
   "id": "789cd40e",
   "metadata": {},
   "outputs": [],
   "source": [
    "# ------------>>>>>>>> RUN THIS CODE CELL <<<<<<<<------------\n",
    "# === CELL TYPE: IMPORTS AND SETUP\n",
    "\n",
    "import datetime\n",
    "import math\n",
    "\n",
    "import numpy as np\n",
    "import pandas as pd"
   ]
  },
  {
   "cell_type": "markdown",
   "id": "4e50b6cc",
   "metadata": {},
   "source": [
    "## First we need to open the Dataframes\n"
   ]
  },
  {
   "cell_type": "code",
   "execution_count": 2,
   "id": "443d7a58",
   "metadata": {},
   "outputs": [],
   "source": [
    "games_df = pd.read_csv(\"./games_data_table.csv\").drop(\"Unnamed: 0\", axis=1)\n",
    "players_df = pd.read_csv(\"./players_data_table.csv\").drop(\"Unnamed: 0\", axis=1)"
   ]
  },
  {
   "cell_type": "code",
   "execution_count": 3,
   "id": "5c94e7e8",
   "metadata": {},
   "outputs": [],
   "source": [
    "games_df_main = games_df.copy()\n",
    "games_df.drop_duplicates(\"match_id\", inplace=True)"
   ]
  },
  {
   "cell_type": "markdown",
   "id": "73827c97",
   "metadata": {},
   "source": [
    "### We need to extract some data from the tables and combine them\n",
    "\n",
    "#### get player id\n"
   ]
  },
  {
   "cell_type": "code",
   "execution_count": 4,
   "id": "9395777d",
   "metadata": {},
   "outputs": [],
   "source": [
    "def get_player_id(player_name):\n",
    "    try:\n",
    "        row = players_df[players_df[\"name\"] == player_name]\n",
    "        return row[\"id\"].values[0]\n",
    "    except:\n",
    "        return None"
   ]
  },
  {
   "cell_type": "markdown",
   "id": "08ad8a5e",
   "metadata": {},
   "source": [
    "#### get the dataframe that represents previous matches between the two players"
   ]
  },
  {
   "cell_type": "code",
   "execution_count": 5,
   "id": "6ed5def8",
   "metadata": {},
   "outputs": [],
   "source": [
    "def get_vs_df(p1, p2):\n",
    "    df = games_df[(games_df[\"p1_id\"] == p1) | (games_df[\"p2_id\"] == p1)]\n",
    "    df = df[(df[\"p1_id\"] == p2) | (df[\"p2_id\"] == p2)]\n",
    "    return df"
   ]
  },
  {
   "cell_type": "code",
   "execution_count": 6,
   "id": "bd3c77a4",
   "metadata": {},
   "outputs": [
    {
     "data": {
      "text/html": [
       "<div>\n",
       "<style scoped>\n",
       "    .dataframe tbody tr th:only-of-type {\n",
       "        vertical-align: middle;\n",
       "    }\n",
       "\n",
       "    .dataframe tbody tr th {\n",
       "        vertical-align: top;\n",
       "    }\n",
       "\n",
       "    .dataframe thead th {\n",
       "        text-align: right;\n",
       "    }\n",
       "</style>\n",
       "<table border=\"1\" class=\"dataframe\">\n",
       "  <thead>\n",
       "    <tr style=\"text-align: right;\">\n",
       "      <th></th>\n",
       "      <th>match_id</th>\n",
       "      <th>match_type</th>\n",
       "      <th>date</th>\n",
       "      <th>p1_id</th>\n",
       "      <th>p1_name</th>\n",
       "      <th>p1_club</th>\n",
       "      <th>p1_rank</th>\n",
       "      <th>p1_sets</th>\n",
       "      <th>p1_home</th>\n",
       "      <th>p1_points_gained</th>\n",
       "      <th>p2_id</th>\n",
       "      <th>p2_name</th>\n",
       "      <th>p2_club</th>\n",
       "      <th>p2_rank</th>\n",
       "      <th>p2_sets</th>\n",
       "      <th>p2_home</th>\n",
       "      <th>p2_points_gained</th>\n",
       "      <th>winner_id</th>\n",
       "    </tr>\n",
       "  </thead>\n",
       "  <tbody>\n",
       "    <tr>\n",
       "      <th>5</th>\n",
       "      <td>327694</td>\n",
       "      <td>ליגת על גברים 2022-2023</td>\n",
       "      <td>2022-11-15</td>\n",
       "      <td>745</td>\n",
       "      <td>יונתן שוסטרמן</td>\n",
       "      <td>מ. בני הרצליה</td>\n",
       "      <td>1764.3</td>\n",
       "      <td>3</td>\n",
       "      <td>1.0</td>\n",
       "      <td>4.5</td>\n",
       "      <td>675</td>\n",
       "      <td>רון דימנט</td>\n",
       "      <td>הישגי כרמיאל</td>\n",
       "      <td>1444.4</td>\n",
       "      <td>0</td>\n",
       "      <td>0.0</td>\n",
       "      <td>-3.00</td>\n",
       "      <td>745</td>\n",
       "    </tr>\n",
       "    <tr>\n",
       "      <th>3411</th>\n",
       "      <td>127066</td>\n",
       "      <td>ליגות גברים 2017-2018</td>\n",
       "      <td>2017-10-24</td>\n",
       "      <td>675</td>\n",
       "      <td>רון דימנט</td>\n",
       "      <td>הישגי כרמיאל</td>\n",
       "      <td>1328.0</td>\n",
       "      <td>0</td>\n",
       "      <td>0.0</td>\n",
       "      <td>-3.0</td>\n",
       "      <td>745</td>\n",
       "      <td>יונתן שוסטרמן</td>\n",
       "      <td>הפועל חיפה</td>\n",
       "      <td>1624.6</td>\n",
       "      <td>3</td>\n",
       "      <td>1.0</td>\n",
       "      <td>4.50</td>\n",
       "      <td>745</td>\n",
       "    </tr>\n",
       "    <tr>\n",
       "      <th>3433</th>\n",
       "      <td>108068</td>\n",
       "      <td>משחקי דירוג סבב 3</td>\n",
       "      <td>2017-02-20</td>\n",
       "      <td>675</td>\n",
       "      <td>רון דימנט</td>\n",
       "      <td>הישגי כרמיאל</td>\n",
       "      <td>1291.1</td>\n",
       "      <td>0</td>\n",
       "      <td>NaN</td>\n",
       "      <td>-4.5</td>\n",
       "      <td>745</td>\n",
       "      <td>יונתן שוסטרמן</td>\n",
       "      <td>מכבי זאב זכרון יעקב</td>\n",
       "      <td>1415.9</td>\n",
       "      <td>3</td>\n",
       "      <td>NaN</td>\n",
       "      <td>6.75</td>\n",
       "      <td>745</td>\n",
       "    </tr>\n",
       "    <tr>\n",
       "      <th>3441</th>\n",
       "      <td>102955</td>\n",
       "      <td>ליגות גברים 2016-2017</td>\n",
       "      <td>2017-01-24</td>\n",
       "      <td>675</td>\n",
       "      <td>רון דימנט</td>\n",
       "      <td>הישגי כרמיאל</td>\n",
       "      <td>1288.3</td>\n",
       "      <td>1</td>\n",
       "      <td>1.0</td>\n",
       "      <td>-4.5</td>\n",
       "      <td>745</td>\n",
       "      <td>יונתן שוסטרמן</td>\n",
       "      <td>מכבי זאב זכרון יעקב</td>\n",
       "      <td>1427.9</td>\n",
       "      <td>3</td>\n",
       "      <td>0.0</td>\n",
       "      <td>6.75</td>\n",
       "      <td>745</td>\n",
       "    </tr>\n",
       "    <tr>\n",
       "      <th>3447</th>\n",
       "      <td>98223</td>\n",
       "      <td>משחקי דירוג סבב 2</td>\n",
       "      <td>2016-12-29</td>\n",
       "      <td>675</td>\n",
       "      <td>רון דימנט</td>\n",
       "      <td>הישגי כרמיאל</td>\n",
       "      <td>1213.3</td>\n",
       "      <td>3</td>\n",
       "      <td>NaN</td>\n",
       "      <td>36.0</td>\n",
       "      <td>745</td>\n",
       "      <td>יונתן שוסטרמן</td>\n",
       "      <td>מכבי זאב זכרון יעקב</td>\n",
       "      <td>1421.7</td>\n",
       "      <td>2</td>\n",
       "      <td>NaN</td>\n",
       "      <td>-24.00</td>\n",
       "      <td>675</td>\n",
       "    </tr>\n",
       "    <tr>\n",
       "      <th>3458</th>\n",
       "      <td>96043</td>\n",
       "      <td>ליגות נוער 2016-2017</td>\n",
       "      <td>2016-11-30</td>\n",
       "      <td>675</td>\n",
       "      <td>רון דימנט</td>\n",
       "      <td>הישגי כרמיאל</td>\n",
       "      <td>1244.8</td>\n",
       "      <td>1</td>\n",
       "      <td>0.0</td>\n",
       "      <td>-4.8</td>\n",
       "      <td>745</td>\n",
       "      <td>יונתן שוסטרמן</td>\n",
       "      <td>מכבי זאב זכרון יעקב</td>\n",
       "      <td>1317.0</td>\n",
       "      <td>3</td>\n",
       "      <td>1.0</td>\n",
       "      <td>5.76</td>\n",
       "      <td>745</td>\n",
       "    </tr>\n",
       "    <tr>\n",
       "      <th>3461</th>\n",
       "      <td>95000</td>\n",
       "      <td>ליגות גברים 2016-2017</td>\n",
       "      <td>2016-11-15</td>\n",
       "      <td>675</td>\n",
       "      <td>רון דימנט</td>\n",
       "      <td>הישגי כרמיאל</td>\n",
       "      <td>1244.8</td>\n",
       "      <td>2</td>\n",
       "      <td>0.0</td>\n",
       "      <td>-6.0</td>\n",
       "      <td>745</td>\n",
       "      <td>יונתן שוסטרמן</td>\n",
       "      <td>מכבי זאב זכרון יעקב</td>\n",
       "      <td>1317.0</td>\n",
       "      <td>3</td>\n",
       "      <td>1.0</td>\n",
       "      <td>9.00</td>\n",
       "      <td>745</td>\n",
       "    </tr>\n",
       "  </tbody>\n",
       "</table>\n",
       "</div>"
      ],
      "text/plain": [
       "      match_id               match_type        date  p1_id        p1_name  \\\n",
       "5       327694  ליגת על גברים 2022-2023  2022-11-15    745  יונתן שוסטרמן   \n",
       "3411    127066    ליגות גברים 2017-2018  2017-10-24    675      רון דימנט   \n",
       "3433    108068        משחקי דירוג סבב 3  2017-02-20    675      רון דימנט   \n",
       "3441    102955    ליגות גברים 2016-2017  2017-01-24    675      רון דימנט   \n",
       "3447     98223        משחקי דירוג סבב 2  2016-12-29    675      רון דימנט   \n",
       "3458     96043     ליגות נוער 2016-2017  2016-11-30    675      רון דימנט   \n",
       "3461     95000    ליגות גברים 2016-2017  2016-11-15    675      רון דימנט   \n",
       "\n",
       "            p1_club  p1_rank  p1_sets  p1_home  p1_points_gained  p2_id  \\\n",
       "5     מ. בני הרצליה   1764.3        3      1.0               4.5    675   \n",
       "3411   הישגי כרמיאל   1328.0        0      0.0              -3.0    745   \n",
       "3433   הישגי כרמיאל   1291.1        0      NaN              -4.5    745   \n",
       "3441   הישגי כרמיאל   1288.3        1      1.0              -4.5    745   \n",
       "3447   הישגי כרמיאל   1213.3        3      NaN              36.0    745   \n",
       "3458   הישגי כרמיאל   1244.8        1      0.0              -4.8    745   \n",
       "3461   הישגי כרמיאל   1244.8        2      0.0              -6.0    745   \n",
       "\n",
       "            p2_name              p2_club  p2_rank  p2_sets  p2_home  \\\n",
       "5         רון דימנט         הישגי כרמיאל   1444.4        0      0.0   \n",
       "3411  יונתן שוסטרמן           הפועל חיפה   1624.6        3      1.0   \n",
       "3433  יונתן שוסטרמן  מכבי זאב זכרון יעקב   1415.9        3      NaN   \n",
       "3441  יונתן שוסטרמן  מכבי זאב זכרון יעקב   1427.9        3      0.0   \n",
       "3447  יונתן שוסטרמן  מכבי זאב זכרון יעקב   1421.7        2      NaN   \n",
       "3458  יונתן שוסטרמן  מכבי זאב זכרון יעקב   1317.0        3      1.0   \n",
       "3461  יונתן שוסטרמן  מכבי זאב זכרון יעקב   1317.0        3      1.0   \n",
       "\n",
       "      p2_points_gained  winner_id  \n",
       "5                -3.00        745  \n",
       "3411              4.50        745  \n",
       "3433              6.75        745  \n",
       "3441              6.75        745  \n",
       "3447            -24.00        675  \n",
       "3458              5.76        745  \n",
       "3461              9.00        745  "
      ]
     },
     "execution_count": 6,
     "metadata": {},
     "output_type": "execute_result"
    }
   ],
   "source": [
    "test = get_vs_df(745, 675)\n",
    "test"
   ]
  },
  {
   "cell_type": "markdown",
   "id": "e9f072c2",
   "metadata": {},
   "source": [
    "#### get the form of each player \n",
    "\n",
    "By calling this function we are trying to acquire the form of the player that is represented by the matches of the week before.\n",
    "It sums the total point he recieved form the previous games earlier today up to a week eralier.\n",
    "We can use the form to determine if he is in a good shape or not before each match"
   ]
  },
  {
   "cell_type": "code",
   "execution_count": 7,
   "id": "7d47f5a9",
   "metadata": {},
   "outputs": [],
   "source": [
    "def get_player_form(player_id, date, match_id):\n",
    "    form = 0\n",
    "    try:\n",
    "        datetime_object = datetime.datetime.strptime(date, \"%Y-%m-%d\")\n",
    "        start = datetime_object - datetime.timedelta(days=14)\n",
    "        end = datetime_object\n",
    "        date_time_start = start.strftime(\"%Y-%m-%d\")\n",
    "        date_time_end = end.strftime(\"%Y-%m-%d\")\n",
    "        temp_df = games_df[games_df[\"date\"] <= date_time_end]\n",
    "        temp_df.drop_duplicates(\"match_id\", inplace=True)\n",
    "        temp_df = temp_df[temp_df[\"date\"] >= date_time_start]\n",
    "        temp_df = temp_df[temp_df[\"match_id\"] != match_id]\n",
    "        temp_df = temp_df[\n",
    "            (temp_df[\"p1_id\"] == player_id) | (temp_df[\"p2_id\"] == player_id)\n",
    "        ]\n",
    "        for j, row in temp_df.iterrows():\n",
    "            form += (\n",
    "                row[\"p1_points_gained\"]\n",
    "                if row[\"p1_id\"] == player_id\n",
    "                else row[\"p2_points_gained\"]\n",
    "            )\n",
    "    except:\n",
    "        pass\n",
    "    return form"
   ]
  },
  {
   "cell_type": "markdown",
   "id": "0073f534",
   "metadata": {},
   "source": [
    "#### get the win history of each player against each other \n"
   ]
  },
  {
   "cell_type": "code",
   "execution_count": 8,
   "id": "4b89f6f4",
   "metadata": {},
   "outputs": [],
   "source": [
    "def get_wins_history(vs_df, date):\n",
    "    vs_df = vs_df[vs_df[\"date\"] < date].copy()\n",
    "    p1 = {\"id\": vs_df[\"p1_id\"].unique()[0]}\n",
    "    p2 = {\"id\": vs_df[\"p2_id\"].unique()[0]}\n",
    "    p1_wins = 0\n",
    "    p2_wins = 0\n",
    "    p1[\"wins\"] = len(vs_df[vs_df[\"winner_id\"] == p1[\"id\"]])\n",
    "    p2[\"wins\"] = len(vs_df[vs_df[\"winner_id\"] == p2[\"id\"]])\n",
    "    return p1, p2"
   ]
  },
  {
   "cell_type": "code",
   "execution_count": 9,
   "id": "222e2964",
   "metadata": {},
   "outputs": [
    {
     "name": "stdout",
     "output_type": "stream",
     "text": [
      "({'id': 745, 'wins': 6}, {'id': 675, 'wins': 1})\n"
     ]
    }
   ],
   "source": [
    "print(get_wins_history(test, \"2022-11-16\"))"
   ]
  },
  {
   "cell_type": "markdown",
   "id": "72a4af5c",
   "metadata": {},
   "source": [
    "After writing the relevant functions we can now use and update the relevant DataFrame"
   ]
  },
  {
   "cell_type": "code",
   "execution_count": 10,
   "id": "f3da9fb8",
   "metadata": {},
   "outputs": [],
   "source": [
    "games_dict = games_df_main.to_dict(\"series\")\n",
    "games_dict[\"p1_prevwins\"] = []\n",
    "games_dict[\"p2_prevwins\"] = []\n",
    "games_dict[\"p1_form\"] = []\n",
    "games_dict[\"p2_form\"] = []"
   ]
  },
  {
   "cell_type": "markdown",
   "id": "adb221a2",
   "metadata": {},
   "source": [
    "#### Updating the DataFrame by calling this function"
   ]
  },
  {
   "cell_type": "code",
   "execution_count": 11,
   "id": "f9117ab9",
   "metadata": {},
   "outputs": [],
   "source": [
    "def wins_calc():\n",
    "    for i, row in games_df_main.iterrows():\n",
    "\n",
    "        p1_id = row[\"p1_id\"]\n",
    "        p2_id = row[\"p2_id\"]\n",
    "        vs_df = get_vs_df(p1_id, p2_id)\n",
    "        try:\n",
    "            wins = get_wins_history(vs_df, row[\"date\"])\n",
    "            games_dict[\"p1_prevwins\"].append(\n",
    "                int(wins[0][\"wins\"]) if wins[0][\"id\"] == p1_id else int(wins[1][\"wins\"])\n",
    "            )\n",
    "            games_dict[\"p2_prevwins\"].append(\n",
    "                int(wins[0][\"wins\"]) if wins[0][\"id\"] == p2_id else int(wins[1][\"wins\"])\n",
    "            )\n",
    "        except:\n",
    "            games_dict[\"p1_prevwins\"].append(0)\n",
    "            games_dict[\"p2_prevwins\"].append(0)"
   ]
  },
  {
   "cell_type": "code",
   "execution_count": 12,
   "id": "2c7a8423",
   "metadata": {},
   "outputs": [
    {
     "name": "stdout",
     "output_type": "stream",
     "text": [
      "Wins calc Done\n"
     ]
    }
   ],
   "source": [
    "wins_calc()\n",
    "print(\"Wins calc Done\")"
   ]
  },
  {
   "cell_type": "code",
   "execution_count": 33,
   "id": "56c830e5",
   "metadata": {},
   "outputs": [
    {
     "name": "stderr",
     "output_type": "stream",
     "text": [
      "C:\\Users\\Shlomi\\AppData\\Local\\Temp\\ipykernel_5720\\117951440.py:10: SettingWithCopyWarning: \n",
      "A value is trying to be set on a copy of a slice from a DataFrame\n",
      "\n",
      "See the caveats in the documentation: https://pandas.pydata.org/pandas-docs/stable/user_guide/indexing.html#returning-a-view-versus-a-copy\n",
      "  temp_df.drop_duplicates(\"match_id\", inplace=True)\n"
     ]
    }
   ],
   "source": [
    "for i, row in games_df_main.iterrows():\n",
    "    p1_id = row[\"p1_id\"]\n",
    "    p2_id = row[\"p2_id\"]\n",
    "    date = row[\"date\"]\n",
    "    match_id = row[\"match_id\"]\n",
    "    p1_form = get_player_form(p1_id, date, match_id)\n",
    "    p2_form = get_player_form(p2_id, date, match_id)\n",
    "    games_dict[\"p1_form\"].append(p1_form)\n",
    "    games_dict[\"p2_form\"].append(p2_form)"
   ]
  },
  {
   "cell_type": "code",
   "execution_count": 34,
   "id": "480527de",
   "metadata": {},
   "outputs": [
    {
     "name": "stdout",
     "output_type": "stream",
     "text": [
      "Forms Done\n"
     ]
    }
   ],
   "source": [
    "print(\"Forms Done\")"
   ]
  },
  {
   "cell_type": "code",
   "execution_count": 16,
   "id": "1dcd51cb",
   "metadata": {},
   "outputs": [],
   "source": [
    "games_df = pd.DataFrame.from_dict(games_dict)"
   ]
  },
  {
   "cell_type": "code",
   "execution_count": 17,
   "id": "c140b782",
   "metadata": {},
   "outputs": [],
   "source": [
    "games_df.to_csv(\"games_processed_table.csv\", sep=\",\", encoding=\"utf-8-sig\")"
   ]
  }
 ],
 "metadata": {
  "kernelspec": {
   "display_name": "Python 3",
   "language": "python",
   "name": "python3"
  },
  "language_info": {
   "codemirror_mode": {
    "name": "ipython",
    "version": 3
   },
   "file_extension": ".py",
   "mimetype": "text/x-python",
   "name": "python",
   "nbconvert_exporter": "python",
   "pygments_lexer": "ipython3",
   "version": "3.9.13"
  },
  "vscode": {
   "interpreter": {
    "hash": "f30eaf7e98557e1e6b6bf311b44060d4a814d8c64947558202819469cfe14151"
   }
  }
 },
 "nbformat": 4,
 "nbformat_minor": 5
}
